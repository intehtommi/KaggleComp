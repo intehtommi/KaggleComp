{
 "cells": [
  {
   "cell_type": "code",
   "execution_count": 123,
   "metadata": {},
   "outputs": [],
   "source": [
    "# example of correlation feature selection for numerical data\n",
    "from sklearn.datasets import make_regression\n",
    "from sklearn.model_selection import train_test_split\n",
    "from sklearn.feature_selection import SelectKBest\n",
    "from sklearn.feature_selection import f_regression\n",
    "import pandas as pd\n",
    "import numpy as np\n",
    "import matplotlib.pyplot as plt\n",
    "import seaborn as sns\n",
    "%matplotlib inline\n",
    "sns.set_style(\"whitegrid\")\n",
    "plt.style.use(\"fivethirtyeight\")"
   ]
  },
  {
   "cell_type": "code",
   "execution_count": 124,
   "metadata": {},
   "outputs": [],
   "source": [
    "def is_str(v):\n",
    "    for item in v:\n",
    "        if type(item) is str:\n",
    "            return True\n",
    "    return False"
   ]
  },
  {
   "cell_type": "code",
   "execution_count": 125,
   "metadata": {},
   "outputs": [],
   "source": [
    "# feature selection\n",
    "def select_features(X_train, y_train, X_test):\n",
    "\t# configure to select all features\n",
    "\tfs = SelectKBest(score_func=f_regression, k='all')\n",
    "\t# learn relationship from training data\n",
    "\tfs.fit(X_train, y_train)\n",
    "\t# transform train input data\n",
    "\tX_train_fs = fs.transform(X_train)\n",
    "\t# transform test input data\n",
    "\tX_test_fs = fs.transform(X_test)\n",
    "\treturn X_train_fs, X_test_fs, fs"
   ]
  },
  {
   "cell_type": "code",
   "execution_count": 126,
   "metadata": {},
   "outputs": [],
   "source": [
    "USAtrain = pd.read_csv('./train.csv')\n",
    "USAtrain = USAtrain.fillna(0)"
   ]
  },
  {
   "cell_type": "code",
   "execution_count": 127,
   "metadata": {},
   "outputs": [
    {
     "data": {
      "text/plain": [
       "{'C (all)', 'FV', 'RH', 'RL', 'RM'}"
      ]
     },
     "execution_count": 127,
     "metadata": {},
     "output_type": "execute_result"
    }
   ],
   "source": [
    "set(USAtrain['MSZoning'])"
   ]
  },
  {
   "cell_type": "code",
   "execution_count": 128,
   "metadata": {},
   "outputs": [
    {
     "data": {
      "text/plain": [
       "[0, 1, 2, 3, 4]"
      ]
     },
     "execution_count": 128,
     "metadata": {},
     "output_type": "execute_result"
    }
   ],
   "source": [
    "[x for x in range(len(set(USAtrain['MSZoning'])))]"
   ]
  },
  {
   "cell_type": "code",
   "execution_count": 129,
   "metadata": {},
   "outputs": [],
   "source": [
    "for column in list(USAtrain.columns):\n",
    "    elemset = set(USAtrain[column])\n",
    "    if is_str(elemset):\n",
    "        USAtrain[column]=USAtrain[column].replace(list(elemset), [i for i in range(len(elemset))])"
   ]
  },
  {
   "cell_type": "code",
   "execution_count": 130,
   "metadata": {},
   "outputs": [
    {
     "data": {
      "text/html": [
       "<div>\n",
       "<style scoped>\n",
       "    .dataframe tbody tr th:only-of-type {\n",
       "        vertical-align: middle;\n",
       "    }\n",
       "\n",
       "    .dataframe tbody tr th {\n",
       "        vertical-align: top;\n",
       "    }\n",
       "\n",
       "    .dataframe thead th {\n",
       "        text-align: right;\n",
       "    }\n",
       "</style>\n",
       "<table border=\"1\" class=\"dataframe\">\n",
       "  <thead>\n",
       "    <tr style=\"text-align: right;\">\n",
       "      <th></th>\n",
       "      <th>Id</th>\n",
       "      <th>MSSubClass</th>\n",
       "      <th>MSZoning</th>\n",
       "      <th>LotFrontage</th>\n",
       "      <th>LotArea</th>\n",
       "      <th>Street</th>\n",
       "      <th>Alley</th>\n",
       "      <th>LotShape</th>\n",
       "      <th>LandContour</th>\n",
       "      <th>Utilities</th>\n",
       "      <th>...</th>\n",
       "      <th>PoolArea</th>\n",
       "      <th>PoolQC</th>\n",
       "      <th>Fence</th>\n",
       "      <th>MiscFeature</th>\n",
       "      <th>MiscVal</th>\n",
       "      <th>MoSold</th>\n",
       "      <th>YrSold</th>\n",
       "      <th>SaleType</th>\n",
       "      <th>SaleCondition</th>\n",
       "      <th>SalePrice</th>\n",
       "    </tr>\n",
       "  </thead>\n",
       "  <tbody>\n",
       "    <tr>\n",
       "      <th>0</th>\n",
       "      <td>1</td>\n",
       "      <td>60</td>\n",
       "      <td>1</td>\n",
       "      <td>65.0</td>\n",
       "      <td>8450</td>\n",
       "      <td>0</td>\n",
       "      <td>0</td>\n",
       "      <td>2</td>\n",
       "      <td>0</td>\n",
       "      <td>0</td>\n",
       "      <td>...</td>\n",
       "      <td>0</td>\n",
       "      <td>0</td>\n",
       "      <td>0</td>\n",
       "      <td>0</td>\n",
       "      <td>0</td>\n",
       "      <td>2</td>\n",
       "      <td>2008</td>\n",
       "      <td>0</td>\n",
       "      <td>4</td>\n",
       "      <td>208500</td>\n",
       "    </tr>\n",
       "    <tr>\n",
       "      <th>1</th>\n",
       "      <td>2</td>\n",
       "      <td>20</td>\n",
       "      <td>1</td>\n",
       "      <td>80.0</td>\n",
       "      <td>9600</td>\n",
       "      <td>0</td>\n",
       "      <td>0</td>\n",
       "      <td>2</td>\n",
       "      <td>0</td>\n",
       "      <td>0</td>\n",
       "      <td>...</td>\n",
       "      <td>0</td>\n",
       "      <td>0</td>\n",
       "      <td>0</td>\n",
       "      <td>0</td>\n",
       "      <td>0</td>\n",
       "      <td>5</td>\n",
       "      <td>2007</td>\n",
       "      <td>0</td>\n",
       "      <td>4</td>\n",
       "      <td>181500</td>\n",
       "    </tr>\n",
       "    <tr>\n",
       "      <th>2</th>\n",
       "      <td>3</td>\n",
       "      <td>60</td>\n",
       "      <td>1</td>\n",
       "      <td>68.0</td>\n",
       "      <td>11250</td>\n",
       "      <td>0</td>\n",
       "      <td>0</td>\n",
       "      <td>1</td>\n",
       "      <td>0</td>\n",
       "      <td>0</td>\n",
       "      <td>...</td>\n",
       "      <td>0</td>\n",
       "      <td>0</td>\n",
       "      <td>0</td>\n",
       "      <td>0</td>\n",
       "      <td>0</td>\n",
       "      <td>9</td>\n",
       "      <td>2008</td>\n",
       "      <td>0</td>\n",
       "      <td>4</td>\n",
       "      <td>223500</td>\n",
       "    </tr>\n",
       "    <tr>\n",
       "      <th>3</th>\n",
       "      <td>4</td>\n",
       "      <td>70</td>\n",
       "      <td>1</td>\n",
       "      <td>60.0</td>\n",
       "      <td>9550</td>\n",
       "      <td>0</td>\n",
       "      <td>0</td>\n",
       "      <td>1</td>\n",
       "      <td>0</td>\n",
       "      <td>0</td>\n",
       "      <td>...</td>\n",
       "      <td>0</td>\n",
       "      <td>0</td>\n",
       "      <td>0</td>\n",
       "      <td>0</td>\n",
       "      <td>0</td>\n",
       "      <td>2</td>\n",
       "      <td>2006</td>\n",
       "      <td>0</td>\n",
       "      <td>3</td>\n",
       "      <td>140000</td>\n",
       "    </tr>\n",
       "    <tr>\n",
       "      <th>4</th>\n",
       "      <td>5</td>\n",
       "      <td>60</td>\n",
       "      <td>1</td>\n",
       "      <td>84.0</td>\n",
       "      <td>14260</td>\n",
       "      <td>0</td>\n",
       "      <td>0</td>\n",
       "      <td>1</td>\n",
       "      <td>0</td>\n",
       "      <td>0</td>\n",
       "      <td>...</td>\n",
       "      <td>0</td>\n",
       "      <td>0</td>\n",
       "      <td>0</td>\n",
       "      <td>0</td>\n",
       "      <td>0</td>\n",
       "      <td>12</td>\n",
       "      <td>2008</td>\n",
       "      <td>0</td>\n",
       "      <td>4</td>\n",
       "      <td>250000</td>\n",
       "    </tr>\n",
       "  </tbody>\n",
       "</table>\n",
       "<p>5 rows × 81 columns</p>\n",
       "</div>"
      ],
      "text/plain": [
       "   Id  MSSubClass  MSZoning  LotFrontage  LotArea  Street  Alley  LotShape  \\\n",
       "0   1          60         1         65.0     8450       0      0         2   \n",
       "1   2          20         1         80.0     9600       0      0         2   \n",
       "2   3          60         1         68.0    11250       0      0         1   \n",
       "3   4          70         1         60.0     9550       0      0         1   \n",
       "4   5          60         1         84.0    14260       0      0         1   \n",
       "\n",
       "   LandContour  Utilities  ...  PoolArea  PoolQC  Fence  MiscFeature  MiscVal  \\\n",
       "0            0          0  ...         0       0      0            0        0   \n",
       "1            0          0  ...         0       0      0            0        0   \n",
       "2            0          0  ...         0       0      0            0        0   \n",
       "3            0          0  ...         0       0      0            0        0   \n",
       "4            0          0  ...         0       0      0            0        0   \n",
       "\n",
       "   MoSold  YrSold  SaleType  SaleCondition  SalePrice  \n",
       "0       2    2008         0              4     208500  \n",
       "1       5    2007         0              4     181500  \n",
       "2       9    2008         0              4     223500  \n",
       "3       2    2006         0              3     140000  \n",
       "4      12    2008         0              4     250000  \n",
       "\n",
       "[5 rows x 81 columns]"
      ]
     },
     "execution_count": 130,
     "metadata": {},
     "output_type": "execute_result"
    }
   ],
   "source": [
    "USAtrain.head()"
   ]
  },
  {
   "cell_type": "code",
   "execution_count": 131,
   "metadata": {},
   "outputs": [],
   "source": [
    "X = USAtrain.drop(columns = 'SalePrice')\n",
    "y = USAtrain['SalePrice']"
   ]
  },
  {
   "cell_type": "code",
   "execution_count": 132,
   "metadata": {},
   "outputs": [],
   "source": [
    "# split into train and test sets\n",
    "X_train, X_test, y_train, y_test = train_test_split(X, y, test_size=0.33, random_state=1)"
   ]
  },
  {
   "cell_type": "code",
   "execution_count": null,
   "metadata": {},
   "outputs": [],
   "source": []
  },
  {
   "cell_type": "code",
   "execution_count": 133,
   "metadata": {},
   "outputs": [],
   "source": [
    "# feature selection\n",
    "X_train_fs, X_test_fs, fs = select_features(X_train, y_train, X_test)"
   ]
  },
  {
   "cell_type": "code",
   "execution_count": 134,
   "metadata": {},
   "outputs": [
    {
     "name": "stdout",
     "output_type": "stream",
     "text": [
      "Feature 0: 1.089740\n",
      "Feature 1: 10.145981\n",
      "Feature 2: 68.483659\n",
      "Feature 3: 45.654378\n",
      "Feature 4: 79.623937\n",
      "Feature 5: 3.096419\n",
      "Feature 6: 5.291014\n",
      "Feature 7: 61.333668\n",
      "Feature 8: 0.655532\n",
      "Feature 9: 0.321609\n",
      "Feature 10: 9.450273\n",
      "Feature 11: 9.373686\n",
      "Feature 12: 18.430498\n",
      "Feature 13: 6.186763\n",
      "Feature 14: 0.502899\n",
      "Feature 15: 23.679425\n",
      "Feature 16: 28.359438\n",
      "Feature 17: 1460.653154\n",
      "Feature 18: 7.990384\n",
      "Feature 19: 315.166758\n",
      "Feature 20: 309.200082\n",
      "Feature 21: 41.176058\n",
      "Feature 22: 9.812660\n",
      "Feature 23: 4.878299\n",
      "Feature 24: 7.871429\n",
      "Feature 25: 90.903921\n",
      "Feature 26: 272.889707\n",
      "Feature 27: 102.574234\n",
      "Feature 28: 8.243392\n",
      "Feature 29: 281.430195\n",
      "Feature 30: 17.975972\n",
      "Feature 31: 5.784532\n",
      "Feature 32: 162.837808\n",
      "Feature 33: 60.467122\n",
      "Feature 34: 143.323110\n",
      "Feature 35: 23.394994\n",
      "Feature 36: 0.043207\n",
      "Feature 37: 48.974863\n",
      "Feature 38: 496.215251\n",
      "Feature 39: 9.906352\n",
      "Feature 40: 94.455350\n",
      "Feature 41: 53.673250\n",
      "Feature 42: 21.616382\n",
      "Feature 43: 509.997317\n",
      "Feature 44: 105.193364\n",
      "Feature 45: 0.000013\n",
      "Feature 46: 882.196380\n",
      "Feature 47: 39.146716\n",
      "Feature 48: 0.085493\n",
      "Feature 49: 490.797772\n",
      "Feature 50: 78.652535\n",
      "Feature 51: 36.769926\n",
      "Feature 52: 19.659265\n",
      "Feature 53: 23.548112\n",
      "Feature 54: 399.928901\n",
      "Feature 55: 2.617799\n",
      "Feature 56: 248.009575\n",
      "Feature 57: 172.871328\n",
      "Feature 58: 216.517460\n",
      "Feature 59: 62.761621\n",
      "Feature 60: 37.532042\n",
      "Feature 61: 653.752591\n",
      "Feature 62: 575.950601\n",
      "Feature 63: 15.514750\n",
      "Feature 64: 9.496703\n",
      "Feature 65: 49.557531\n",
      "Feature 66: 112.932724\n",
      "Feature 67: 111.159074\n",
      "Feature 68: 16.039369\n",
      "Feature 69: 0.353340\n",
      "Feature 70: 16.424660\n",
      "Feature 71: 0.810417\n",
      "Feature 72: 0.709991\n",
      "Feature 73: 19.799013\n",
      "Feature 74: 3.462308\n",
      "Feature 75: 0.510118\n",
      "Feature 76: 1.435800\n",
      "Feature 77: 0.230994\n",
      "Feature 78: 44.294865\n",
      "Feature 79: 70.607230\n"
     ]
    }
   ],
   "source": [
    "for i in range(len(fs.scores_)):\n",
    "\tprint('Feature %d: %f' % (i, fs.scores_[i]))"
   ]
  },
  {
   "cell_type": "code",
   "execution_count": 136,
   "metadata": {},
   "outputs": [
    {
     "data": {
      "image/png": "[encoded data removed]",
      "text/plain": [
       "<Figure size 432x288 with 1 Axes>"
      ]
     },
     "metadata": {},
     "output_type": "display_data"
    }
   ],
   "source": [
    "plt.bar([i for i in range(len(fs.scores_))], fs.scores_)\n",
    "plt.show()"
   ]
  },
  {
   "cell_type": "code",
   "execution_count": 139,
   "metadata": {},
   "outputs": [
    {
     "name": "stdout",
     "output_type": "stream",
     "text": [
      "Feature OverallQual: 1460.653154\n",
      "Feature YearBuilt: 315.166758\n",
      "Feature YearRemodAdd: 309.200082\n",
      "Feature MasVnrArea: 272.889707\n",
      "Feature ExterQual: 102.574234\n",
      "Feature Foundation: 281.430195\n",
      "Feature BsmtExposure: 162.837808\n",
      "Feature BsmtFinSF1: 143.323110\n",
      "Feature TotalBsmtSF: 496.215251\n",
      "Feature 1stFlrSF: 509.997317\n",
      "Feature 2ndFlrSF: 105.193364\n",
      "Feature GrLivArea: 882.196380\n",
      "Feature FullBath: 490.797772\n",
      "Feature TotRmsAbvGrd: 399.928901\n",
      "Feature Fireplaces: 248.009575\n",
      "Feature FireplaceQu: 172.871328\n",
      "Feature GarageType: 216.517460\n",
      "Feature GarageCars: 653.752591\n",
      "Feature GarageArea: 575.950601\n",
      "Feature WoodDeckSF: 112.932724\n",
      "Feature OpenPorchSF: 111.159074\n"
     ]
    }
   ],
   "source": [
    "threshold = 100\n",
    "Featurelist = []\n",
    "for i in range(len(fs.scores_)):\n",
    "    if (fs.scores_[i]>threshold):\n",
    "        Featurelist.append(list(USAtrain.columns)[i])\n",
    "        print('Feature %s: %f' % (list(USAtrain.columns)[i], fs.scores_[i]))"
   ]
  },
  {
   "cell_type": "code",
   "execution_count": 141,
   "metadata": {},
   "outputs": [
    {
     "name": "stdout",
     "output_type": "stream",
     "text": [
      "['OverallQual', 'YearBuilt', 'YearRemodAdd', 'MasVnrArea', 'ExterQual', 'Foundation', 'BsmtExposure', 'BsmtFinSF1', 'TotalBsmtSF', '1stFlrSF', '2ndFlrSF', 'GrLivArea', 'FullBath', 'TotRmsAbvGrd', 'Fireplaces', 'FireplaceQu', 'GarageType', 'GarageCars', 'GarageArea', 'WoodDeckSF', 'OpenPorchSF']\n"
     ]
    }
   ],
   "source": [
    "print(Featurelist)"
   ]
  },
  {
   "cell_type": "code",
   "execution_count": null,
   "metadata": {},
   "outputs": [],
   "source": []
  }
 ],
 "metadata": {
  "kernelspec": {
   "display_name": "Python 3",
   "language": "python",
   "name": "python3"
  },
  "language_info": {
   "codemirror_mode": {
    "name": "ipython",
    "version": 3
   },
   "file_extension": ".py",
   "mimetype": "text/x-python",
   "name": "python",
   "nbconvert_exporter": "python",
   "pygments_lexer": "ipython3",
   "version": "3.8.2"
  }
 },
 "nbformat": 4,
 "nbformat_minor": 4
}
